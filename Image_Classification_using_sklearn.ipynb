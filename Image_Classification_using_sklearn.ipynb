{
  "nbformat": 4,
  "nbformat_minor": 0,
  "metadata": {
    "colab": {
      "name": "Image Classification using sklearn.ipynb",
      "provenance": [],
      "toc_visible": true
    },
    "kernelspec": {
      "name": "python3",
      "display_name": "Python 3"
    },
    "language_info": {
      "name": "python"
    }
  },
  "cells": [
    {
      "cell_type": "code",
      "metadata": {
        "colab": {
          "base_uri": "https://localhost:8080/"
        },
        "id": "WDPcG0UH4W7A",
        "outputId": "6885633b-72cc-4f2f-df43-e0a4fe67643f"
      },
      "source": [
        "!pip install bing-image-downloader\n",
        "!mkdir images "
      ],
      "execution_count": 1,
      "outputs": [
        {
          "output_type": "stream",
          "text": [
            "Collecting bing-image-downloader\n",
            "  Downloading https://files.pythonhosted.org/packages/2c/f9/e827c690d0df1ec2f2f27cf0fb3d1f944c5c56253f8d3750ccaff051b3d3/bing_image_downloader-1.1.0-py3-none-any.whl\n",
            "Installing collected packages: bing-image-downloader\n",
            "Successfully installed bing-image-downloader-1.1.0\n"
          ],
          "name": "stdout"
        }
      ]
    },
    {
      "cell_type": "code",
      "metadata": {
        "colab": {
          "base_uri": "https://localhost:8080/"
        },
        "id": "c_XTlClH4u2l",
        "outputId": "6f3f3793-8601-402b-e687-937d4b6ef769"
      },
      "source": [
        "from bing_image_downloader import downloader\n",
        "downloader.download ( \"ice cream\", limit =30 , output_dir ='images',adult_filter_off = True)\n",
        "downloader.download ( \"tennis ball \", limit =30 , output_dir ='images',adult_filter_off = True)\n",
        "downloader.download ( \"rugby ball\", limit =30 , output_dir ='images',adult_filter_off = True)\n"
      ],
      "execution_count": 2,
      "outputs": [
        {
          "output_type": "stream",
          "text": [
            "[%] Downloading Images to /content/images/ice cream\n",
            "\n",
            "\n",
            "[!!]Indexing page: 1\n",
            "\n",
            "[%] Indexed 30 Images on Page 1.\n",
            "\n",
            "===============================================\n",
            "\n",
            "[%] Downloading Image #1 from https://townsquare.media/site/698/files/2017/02/RS14601_487960675-scr.jpg?w=600&amp;h=0&amp;zc=1&amp;s=0&amp;a=t&amp;q=89\n",
            "[%] File Downloaded !\n",
            "\n",
            "[%] Downloading Image #2 from https://ediblesouthflorida.ediblecommunities.com/sites/default/files/images/recipe/True-Coconut-Ice-Cream-(c)-Matthew-Septimus.jpg\n",
            "[%] File Downloaded !\n",
            "\n",
            "[%] Downloading Image #3 from https://i.pinimg.com/736x/5a/ae/8c/5aae8c7b5d217c963adc1a1e4da68b7c--summer-treats-vegan-desserts.jpg\n",
            "[%] File Downloaded !\n",
            "\n",
            "[%] Downloading Image #4 from https://i.pinimg.com/736x/ec/45/f7/ec45f763e86807b136a345de30be808f.jpg\n",
            "[%] File Downloaded !\n",
            "\n",
            "[%] Downloading Image #5 from https://i.pinimg.com/originals/b5/bd/72/b5bd729923fade6a3defca168978c133.jpg\n",
            "[%] File Downloaded !\n",
            "\n",
            "[%] Downloading Image #6 from https://i.pinimg.com/originals/a7/ff/36/a7ff369d20d792e376e1e0bd1d21cfd1.jpg\n",
            "[%] File Downloaded !\n",
            "\n",
            "[%] Downloading Image #7 from https://i.pinimg.com/originals/1c/47/b5/1c47b52cabd8482faeccc5571e096905.jpg\n",
            "[%] File Downloaded !\n",
            "\n",
            "[%] Downloading Image #8 from http://milpitasbeat.com/wp-content/uploads/2019/12/Celsius-Ice-Cream-Photo-6.jpg\n",
            "[%] File Downloaded !\n",
            "\n",
            "[%] Downloading Image #9 from https://i.pinimg.com/originals/03/9b/17/039b1756813fbfa361271c3b9cb75097.jpg\n",
            "[%] File Downloaded !\n",
            "\n",
            "[%] Downloading Image #10 from https://i.pinimg.com/originals/a6/a8/fd/a6a8fd33b3f8a3e7680434f772e0d6f0.png\n",
            "[%] File Downloaded !\n",
            "\n",
            "[%] Downloading Image #11 from https://i.pinimg.com/originals/2f/87/19/2f8719fc051ceccb2a4c9d91c196d253.jpg\n",
            "[%] File Downloaded !\n",
            "\n",
            "[%] Downloading Image #12 from https://i.pinimg.com/originals/cb/b3/82/cbb38241d97bb5af1e7ee6827be975f3.jpg\n",
            "[%] File Downloaded !\n",
            "\n",
            "[%] Downloading Image #13 from https://www.postcardslive.com/wp-content/uploads/2017/05/2017-05May-Recipes-IceCream-Feature.jpg\n",
            "[%] File Downloaded !\n",
            "\n",
            "[%] Downloading Image #14 from https://external-preview.redd.it/PSwvEBK9ckHDWxEo_6a02vEmbaaLqfySvoUkZhfhEJo.jpg?auto=webp&amp;s=0f9181c5c6bc05c23e3e505af7b19f1bcf7417bf\n",
            "[!] Issue getting: https://external-preview.redd.it/PSwvEBK9ckHDWxEo_6a02vEmbaaLqfySvoUkZhfhEJo.jpg?auto=webp&amp;s=0f9181c5c6bc05c23e3e505af7b19f1bcf7417bf\n",
            "[!] Error:: HTTP Error 403: Forbidden\n",
            "[%] Downloading Image #14 from https://www.tothineownstylebetrue.com/wp-content/uploads/2019/10/Enlightened-Icecream-Dairy-Free.jpg\n",
            "[%] File Downloaded !\n",
            "\n",
            "[%] Downloading Image #15 from https://i.pinimg.com/originals/23/a2/5d/23a25d08746874767df378e1f04d798a.jpg\n",
            "[%] File Downloaded !\n",
            "\n",
            "[%] Downloading Image #16 from https://heritageseedbank.com/wp-content/uploads/2020/09/Screenshot_20201117-014608_Instagram.jpg\n",
            "[%] File Downloaded !\n",
            "\n",
            "[%] Downloading Image #17 from http://www.truehealthmagazine.co.uk/wp-content/uploads/2018/04/Raspberry-Ripple-Ice-Cream.jpg\n",
            "[%] File Downloaded !\n",
            "\n",
            "[%] Downloading Image #18 from https://i0.wp.com/milpitasbeat.com/wp-content/uploads/2019/12/Celsius-Ice-Cream-Photo-5-683x1024.jpg?resize=471%2C706\n",
            "[%] File Downloaded !\n",
            "\n",
            "[%] Downloading Image #19 from http://baking-ginger.com/wp-content/uploads/2016/08/blueberry-lavender.jpg\n",
            "[%] File Downloaded !\n",
            "\n",
            "[%] Downloading Image #20 from http://baking-ginger.com/wp-content/uploads/2016/08/Vegan-Peach-Ice-Cream-4.jpg\n",
            "[%] File Downloaded !\n",
            "\n",
            "[%] Downloading Image #21 from http://baking-ginger.com/wp-content/uploads/2016/08/Cardamom-Spiced-Coconut-Ice-Cream-21744.jpg\n",
            "[%] File Downloaded !\n",
            "\n",
            "[%] Downloading Image #22 from http://cdn.quizly.co/wp-content/uploads/2019/11/10002547/Raspberry-Ice-Cream.jpg\n",
            "[%] File Downloaded !\n",
            "\n",
            "[%] Downloading Image #23 from https://i.pinimg.com/originals/fd/13/3b/fd133ba2740d0cc74bdf7c8d53c59198.png\n",
            "[%] File Downloaded !\n",
            "\n",
            "[%] Downloading Image #24 from https://i.pinimg.com/originals/7d/09/31/7d09318606e60bdd26192b4d9c30abdf.png\n",
            "[%] File Downloaded !\n",
            "\n",
            "[%] Downloading Image #25 from https://www.truecraftcannabis.com/wp-content/uploads/2020/04/icc-bud-33.jpg\n",
            "[%] File Downloaded !\n",
            "\n",
            "[%] Downloading Image #26 from https://thehighestcritic.com/wp-content/uploads/2020/11/icc-by-true-genetics-strain-review-by-budfinderdc.jpg\n",
            "[%] File Downloaded !\n",
            "\n",
            "[%] Downloading Image #27 from https://true-north-kitchen.com/wp-content/uploads/2019/08/roasted-peach-ginger-ice-cream-2-e1565876291222.jpg\n",
            "[%] File Downloaded !\n",
            "\n",
            "[%] Downloading Image #28 from https://static.wixstatic.com/media/cd05ef_2fb4740c04384af48a0de04fdfbda06f~mv2_d_2121_1414_s_2.jpg/v1/fill/w_1000,h_667,al_c,q_90,usm_0.66_1.00_0.01/cd05ef_2fb4740c04384af48a0de04fdfbda06f~mv2_d_2121_1414_s_2.jpg\n",
            "[%] File Downloaded !\n",
            "\n",
            "[%] Downloading Image #29 from https://www.gnc.com.sg/dw/image/v2/BCXD_PRD/on/demandware.static/-/Sites-masterCatalog_GNC/en_SG/dw88cfd921/product-images/47601680_bsn_true-mass-vanilla-ice-cream_5.82lb_1635x1227_web.jpg?sw=1635&amp;sh=1226&amp;sm=fit\n",
            "[%] File Downloaded !\n",
            "\n",
            "\n",
            "\n",
            "[!!]Indexing page: 2\n",
            "\n",
            "[%] Indexed 35 Images on Page 2.\n",
            "\n",
            "===============================================\n",
            "\n",
            "[%] Downloading Image #30 from https://townsquare.media/site/698/files/2017/02/RS14601_487960675-scr.jpg?w=600&amp;h=0&amp;zc=1&amp;s=0&amp;a=t&amp;q=89\n",
            "[%] File Downloaded !\n",
            "\n",
            "\n",
            "\n",
            "[%] Done. Downloaded 30 images.\n",
            "===============================================\n",
            "\n",
            "Please show your support here\n",
            "https://www.buymeacoffee.com/gurugaurav\n",
            "\n",
            "===============================================\n",
            "\n",
            "[%] Downloading Images to /content/images/tennis ball \n",
            "\n",
            "\n",
            "[!!]Indexing page: 1\n",
            "\n",
            "[%] Indexed 30 Images on Page 1.\n",
            "\n",
            "===============================================\n",
            "\n",
            "[%] Downloading Image #1 from https://n4.sdlcdn.com/imgs/h/6/5/Bayside-Sports-Tennis-Ball-Pack-SDL407383006-1-9737c.jpeg\n",
            "[%] File Downloaded !\n",
            "\n",
            "[%] Downloading Image #2 from https://2.imimg.com/data2/DY/HB/MY-710817/true-flight-tennis-ball.jpg\n",
            "[%] File Downloaded !\n",
            "\n",
            "[%] Downloading Image #3 from http://p.luckyretail.com/Uploadfile/20160804/074116/074116-3.jpg\n",
            "[%] File Downloaded !\n",
            "\n",
            "[%] Downloading Image #4 from https://i.ytimg.com/vi/1cOLXEp2kvw/maxresdefault.jpg\n",
            "[%] File Downloaded !\n",
            "\n",
            "[%] Downloading Image #5 from https://thumbs.dreamstime.com/b/tennis-balls-har-tru-clay-tennis-court-14175899.jpg\n",
            "[%] File Downloaded !\n",
            "\n",
            "[%] Downloading Image #6 from https://www.positivegroup.org/wp-content/uploads/2018/04/tennis-balls.jpg\n",
            "[%] File Downloaded !\n",
            "\n",
            "[%] Downloading Image #7 from https://n4.sdlcdn.com/imgs/c/f/1/Hayden-12-Red-Tennis-Ball-SDL674639018-2-9a42e.jpg\n",
            "[%] File Downloaded !\n",
            "\n",
            "[%] Downloading Image #8 from https://i.pinimg.com/originals/bf/d1/1f/bfd11fabbdb90ad8fed9c9a0052ae4ec.jpg\n",
            "[%] File Downloaded !\n",
            "\n",
            "[%] Downloading Image #9 from https://i.redd.it/8z0mieog48q41.jpg\n",
            "[%] File Downloaded !\n",
            "\n",
            "[%] Downloading Image #10 from https://www.thompsonsportinggoods.com/wp-content/uploads/2020/04/10117TrueSpinTableTennisBallsPackof6_2nd.jpg\n",
            "[%] File Downloaded !\n",
            "\n",
            "[%] Downloading Image #11 from https://n1.sdlcdn.com/imgs/b/u/l/ARTENGO-TB-920-Tennis-Ball-SDL348876761-2-21fc7.jpg\n",
            "[%] File Downloaded !\n",
            "\n",
            "[%] Downloading Image #12 from https://i.pinimg.com/originals/11/7d/53/117d53dafc24dbdf928af8f4639ace04.jpg\n",
            "[%] File Downloaded !\n",
            "\n",
            "[%] Downloading Image #13 from https://www.rd.com/wp-content/uploads/2017/09/Why-You-Should-Always-Fly-with-a-Tennis-Ball-in-Your-Carry-On_523522210_Nuk2013-ft.jpg\n",
            "[%] File Downloaded !\n",
            "\n",
            "[%] Downloading Image #14 from https://img.pixers.pics/pho_wat(s3:700/FO/41/39/59/69/700_FO41395969_e59a0ac62a8948a5e333e4f9dd82a5f9.jpg,700,502,cms:2018/10/5bd1b6b8d04b8_220x50-watermark.png,over,480,452,jpg)/stickers-yellow-tennis-ball-on-a-white-background.jpg.jpg\n",
            "[%] File Downloaded !\n",
            "\n",
            "[%] Downloading Image #15 from https://www.brusselstennisschool.be/static/641279f598164302eda3cf0e4544b981/d8255/bg.jpg\n",
            "[Error]Invalid image, not saving https://www.brusselstennisschool.be/static/641279f598164302eda3cf0e4544b981/d8255/bg.jpg\n",
            "\n",
            "[!] Issue getting: https://www.brusselstennisschool.be/static/641279f598164302eda3cf0e4544b981/d8255/bg.jpg\n",
            "[!] Error:: Invalid image, not saving https://www.brusselstennisschool.be/static/641279f598164302eda3cf0e4544b981/d8255/bg.jpg\n",
            "\n",
            "[%] Downloading Image #15 from https://www.sportsballshop.co.uk/sportsballblog/wp-content/uploadsortsballshop.co.uk/user/2017/02/TableTennisBalls.jpg\n",
            "[%] File Downloaded !\n",
            "\n",
            "[%] Downloading Image #16 from https://n1.sdlcdn.com/imgs/h/b/v/AkshMall-Red-Cricket-Tennis-Ball-SDL999456795-1-82164.jpeg\n",
            "[%] File Downloaded !\n",
            "\n",
            "[%] Downloading Image #17 from https://www.yourdogsclub.co.uk/images/sportspet-squeak-tennis-balls-medium-12-pack-p1082-3732_image.jpg\n",
            "[%] File Downloaded !\n",
            "\n",
            "[%] Downloading Image #18 from https://i.ytimg.com/vi/9T4hvQDv200/maxresdefault.jpg\n",
            "[%] File Downloaded !\n",
            "\n",
            "[%] Downloading Image #19 from https://qph.fs.quoracdn.net/main-qimg-d0c6f30100f9925109f40d43541a5a3e\n",
            "[%] File Downloaded !\n",
            "\n",
            "[%] Downloading Image #20 from https://n2.sdlcdn.com/imgs/b/u/l/ARTENGO-TA-Tennis-Ball-s-SDL340743336-2-401f9.jpg\n",
            "[%] File Downloaded !\n",
            "\n",
            "[%] Downloading Image #21 from https://blackthornk9.com/wp-content/uploads/2015/09/air_squeaker_ko77555_3-scaled.jpg\n",
            "[%] File Downloaded !\n",
            "\n",
            "[%] Downloading Image #22 from https://live.staticflickr.com/1562/24495146972_0c4a47fd0c.jpg\n",
            "[%] File Downloaded !\n",
            "\n",
            "[%] Downloading Image #23 from https://i.ebayimg.com/images/g/I48AAOSw6v5fEfNJ/s-l640.jpg\n",
            "[%] File Downloaded !\n",
            "\n",
            "[%] Downloading Image #24 from https://image-cdn.hypb.st/https%3A%2F%2Fhypebeast.com%2Fimage%2F2016%2F08%2Fadidas-d-lillard-2-tennis-ball-0.jpg?w=960&amp;cbr=1&amp;q=90&amp;fit=max\n",
            "[%] File Downloaded !\n",
            "\n",
            "[%] Downloading Image #25 from https://i.ebayimg.com/images/g/xLgAAOSw0fNc1n3c/s-l400.jpg\n",
            "[%] File Downloaded !\n",
            "\n",
            "[%] Downloading Image #26 from https://pbs.twimg.com/media/B8A9KhHCAAAJGqq.jpg\n",
            "[%] File Downloaded !\n",
            "\n",
            "[%] Downloading Image #27 from https://www.pinpng.com/pngs/m/234-2341769_true-ball-bounce-german-table-tennis-table-hd.png\n",
            "[%] File Downloaded !\n",
            "\n",
            "[%] Downloading Image #28 from https://i.pinimg.com/originals/5f/d7/72/5fd7725ba1c72323760c178a7de680c6.jpg\n",
            "[%] File Downloaded !\n",
            "\n",
            "[%] Downloading Image #29 from https://n2.sdlcdn.com/imgs/b/u/l/ARTENGO-TA-Tennis-Ball-s-SDL340743336-1-24ee9.jpg\n",
            "[%] File Downloaded !\n",
            "\n",
            "\n",
            "\n",
            "[!!]Indexing page: 2\n",
            "\n",
            "[%] Indexed 35 Images on Page 2.\n",
            "\n",
            "===============================================\n",
            "\n",
            "[%] Downloading Image #30 from https://n4.sdlcdn.com/imgs/h/6/5/Bayside-Sports-Tennis-Ball-Pack-SDL407383006-1-9737c.jpeg\n",
            "[%] File Downloaded !\n",
            "\n",
            "\n",
            "\n",
            "[%] Done. Downloaded 30 images.\n",
            "===============================================\n",
            "\n",
            "Please show your support here\n",
            "https://www.buymeacoffee.com/gurugaurav\n",
            "\n",
            "===============================================\n",
            "\n",
            "[%] Downloading Images to /content/images/rugby ball\n",
            "\n",
            "\n",
            "[!!]Indexing page: 1\n",
            "\n",
            "[%] Indexed 30 Images on Page 1.\n",
            "\n",
            "===============================================\n",
            "\n",
            "[%] Downloading Image #1 from https://www.rugbystore.co.uk/wso/images/library/gow-017378-front-72dpi-rgb.jpg?view=976&amp;v=636547382400000000\n",
            "[%] File Downloaded !\n",
            "\n",
            "[%] Downloading Image #2 from https://www.rugbystore.co.uk/wso/images/library/48427805-side1-72dpi-rgb.jpg?view=976&amp;v=637153728600000000\n",
            "[%] File Downloaded !\n",
            "\n",
            "[%] Downloading Image #3 from https://www.cathryncariad.com/uploads/5/0/7/9/5079686/s330083002289802700_p249_i34_w2466.jpeg\n",
            "[%] File Downloaded !\n",
            "\n",
            "[%] Downloading Image #4 from https://www.rugbystore.co.uk/wso/images/library/45075905-detail-72dpi-rgb.jpg?view=976&amp;v=636461638200000000\n",
            "[%] File Downloaded !\n",
            "\n",
            "[%] Downloading Image #5 from https://www.rugbystore.co.uk/wso/images/library/48418401-side1-72dpi-rgb.jpg?view=976\n",
            "[%] File Downloaded !\n",
            "\n",
            "[%] Downloading Image #6 from https://www.ctsports.co.uk/media/catalog/product/e/n/england-rugby-ball-supporters_3.jpg\n",
            "[%] File Downloaded !\n",
            "\n",
            "[%] Downloading Image #7 from https://i.pinimg.com/originals/97/af/d2/97afd2912fcdbed61e7d2dde52a9a2bf.jpg\n",
            "[%] File Downloaded !\n",
            "\n",
            "[%] Downloading Image #8 from https://www.rugbystore.co.uk/wso/images/library/b000102-a70-main-72dpi-rgb.jpg?view=976&amp;v=637426011000000000\n",
            "[Error]Invalid image, not saving https://www.rugbystore.co.uk/wso/images/library/b000102-a70-main-72dpi-rgb.jpg?view=976&amp;v=637426011000000000\n",
            "\n",
            "[!] Issue getting: https://www.rugbystore.co.uk/wso/images/library/b000102-a70-main-72dpi-rgb.jpg?view=976&amp;v=637426011000000000\n",
            "[!] Error:: Invalid image, not saving https://www.rugbystore.co.uk/wso/images/library/b000102-a70-main-72dpi-rgb.jpg?view=976&amp;v=637426011000000000\n",
            "\n",
            "[%] Downloading Image #8 from https://www.rugbystore.co.uk/wso/images/library/41035901-front-72dpi-rgb.jpg?view=976&amp;v=636959524200000000\n",
            "[%] File Downloaded !\n",
            "\n",
            "[%] Downloading Image #9 from https://www.rugbystore.co.uk/wso/images/library/bal21-front-72dpi-rgb.jpg?view=976&amp;v=637466652000000000\n",
            "[Error]Invalid image, not saving https://www.rugbystore.co.uk/wso/images/library/bal21-front-72dpi-rgb.jpg?view=976&amp;v=637466652000000000\n",
            "\n",
            "[!] Issue getting: https://www.rugbystore.co.uk/wso/images/library/bal21-front-72dpi-rgb.jpg?view=976&amp;v=637466652000000000\n",
            "[!] Error:: Invalid image, not saving https://www.rugbystore.co.uk/wso/images/library/bal21-front-72dpi-rgb.jpg?view=976&amp;v=637466652000000000\n",
            "\n",
            "[%] Downloading Image #9 from https://www.rugbystore.co.uk/wso/images/library/b000102-a70-detail2-72dpi-rgb.jpg?view=976&amp;v=637426011000000000\n",
            "[Error]Invalid image, not saving https://www.rugbystore.co.uk/wso/images/library/b000102-a70-detail2-72dpi-rgb.jpg?view=976&amp;v=637426011000000000\n",
            "\n",
            "[!] Issue getting: https://www.rugbystore.co.uk/wso/images/library/b000102-a70-detail2-72dpi-rgb.jpg?view=976&amp;v=637426011000000000\n",
            "[!] Error:: Invalid image, not saving https://www.rugbystore.co.uk/wso/images/library/b000102-a70-detail2-72dpi-rgb.jpg?view=976&amp;v=637426011000000000\n",
            "\n",
            "[%] Downloading Image #9 from https://www.rugbystore.co.uk/wso/images/library/45076705-side1-72dpi-rgb.jpg?view=976&amp;v=637153728000000000\n",
            "[%] File Downloaded !\n",
            "\n",
            "[%] Downloading Image #10 from https://www.prodirectrugby.com/productimages/V3_1_Main/181653_Main_Thumb_0509001.jpg\n",
            "[!] Issue getting: https://www.prodirectrugby.com/productimages/V3_1_Main/181653_Main_Thumb_0509001.jpg\n",
            "[!] Error:: HTTP Error 403: Forbidden\n",
            "[%] Downloading Image #10 from https://i.pinimg.com/originals/4e/6e/8e/4e6e8ec819ed65e7f7e923b79943df13.jpg\n",
            "[%] File Downloaded !\n",
            "\n",
            "[%] Downloading Image #11 from https://www.borusports.ie/wp-content/uploads/2020/04/RRB1334-1.jpg\n",
            "[%] File Downloaded !\n",
            "\n",
            "[%] Downloading Image #12 from http://englishroserugby.com/img/Products/RugbyBall2.jpg\n",
            "[%] File Downloaded !\n",
            "\n",
            "[%] Downloading Image #13 from https://cdn.shopify.com/s/files/1/1492/1076/products/Screenshot_2020-01-16_at_20.45.24_1400x.png?v=1579207648\n",
            "[%] File Downloaded !\n",
            "\n",
            "[%] Downloading Image #14 from https://www.rugbystore.co.uk/wso/images/library/45076405-detail-72dpi-rgb.jpg?view=976&amp;v=636461636400000000\n",
            "[%] File Downloaded !\n",
            "\n",
            "[%] Downloading Image #15 from https://www.rugbystore.co.uk/wso/images/library/q-b000100-989-side1-72dpi-rgb.jpg?view=976&amp;v=637394716200000000\n",
            "[Error]Invalid image, not saving https://www.rugbystore.co.uk/wso/images/library/q-b000100-989-side1-72dpi-rgb.jpg?view=976&amp;v=637394716200000000\n",
            "\n",
            "[!] Issue getting: https://www.rugbystore.co.uk/wso/images/library/q-b000100-989-side1-72dpi-rgb.jpg?view=976&amp;v=637394716200000000\n",
            "[!] Error:: Invalid image, not saving https://www.rugbystore.co.uk/wso/images/library/q-b000100-989-side1-72dpi-rgb.jpg?view=976&amp;v=637394716200000000\n",
            "\n",
            "[%] Downloading Image #15 from https://i.ebayimg.com/images/i/162767841018-0-1/s-l1000.jpg\n",
            "[%] File Downloaded !\n",
            "\n",
            "[%] Downloading Image #16 from https://cdn.shopify.com/s/files/1/0043/7429/8696/products/Jungle_Rugby_Ball_-_Tiger_2_1800x1800.jpg?v=1569268129\n",
            "[%] File Downloaded !\n",
            "\n",
            "[%] Downloading Image #17 from https://www.rugbystore.co.uk/wso/images/library/45076205-side1-72dpi-rgb.jpg?view=976&amp;v=636461634600000000\n",
            "[%] File Downloaded !\n",
            "\n",
            "[%] Downloading Image #18 from https://i.pinimg.com/originals/06/ef/c5/06efc56d1ade1dd766a8f7d0d07042bd.jpg\n",
            "[%] File Downloaded !\n",
            "\n",
            "[%] Downloading Image #19 from https://cdn.shopify.com/s/files/1/1492/1076/products/Screenshot_2020-01-16_at_20.45.15_1400x.png?v=1579207648\n",
            "[%] File Downloaded !\n",
            "\n",
            "[%] Downloading Image #20 from https://i.ebayimg.com/images/i/302639145394-0-1/s-l1000.jpg\n",
            "[%] File Downloaded !\n",
            "\n",
            "[%] Downloading Image #21 from https://i.ebayimg.com/images/g/3hEAAOSwDudeQrv6/s-l640.jpg\n",
            "[%] File Downloaded !\n",
            "\n",
            "[%] Downloading Image #22 from https://cdn.shopify.com/s/files/1/0043/7429/8696/products/Jungle_Rugby_Ball_-_Monkey_2_1800x1800.jpg?v=1569266762\n",
            "[%] File Downloaded !\n",
            "\n",
            "[%] Downloading Image #23 from https://www.rugbystore.co.uk/wso/images/library/45076405-side1-72dpi-rgb.jpg?view=976&amp;v=636461636400000000\n",
            "[%] File Downloaded !\n",
            "\n",
            "[%] Downloading Image #24 from https://www.prodirectrugby.com/productimages/V3_1_Main/V3_1_Main_0300669.jpg\n",
            "[!] Issue getting: https://www.prodirectrugby.com/productimages/V3_1_Main/V3_1_Main_0300669.jpg\n",
            "[!] Error:: HTTP Error 403: Forbidden\n",
            "[%] Downloading Image #24 from https://www.prodirectrugby.com/productimages/V3_1_Main/V3_1_Main_0321920.jpg\n",
            "[!] Issue getting: https://www.prodirectrugby.com/productimages/V3_1_Main/V3_1_Main_0321920.jpg\n",
            "[!] Error:: HTTP Error 403: Forbidden\n",
            "\n",
            "\n",
            "[!!]Indexing page: 2\n",
            "\n",
            "[%] Indexed 35 Images on Page 2.\n",
            "\n",
            "===============================================\n",
            "\n",
            "[%] Downloading Image #24 from https://www.rugbystore.co.uk/wso/images/library/gow-017378-front-72dpi-rgb.jpg?view=976&amp;v=636547382400000000\n",
            "[%] File Downloaded !\n",
            "\n",
            "[%] Downloading Image #25 from https://www.rugbystore.co.uk/wso/images/library/48427805-side1-72dpi-rgb.jpg?view=976&amp;v=637153728600000000\n",
            "[%] File Downloaded !\n",
            "\n",
            "[%] Downloading Image #26 from https://www.cathryncariad.com/uploads/5/0/7/9/5079686/s330083002289802700_p249_i34_w2466.jpeg\n",
            "[%] File Downloaded !\n",
            "\n",
            "[%] Downloading Image #27 from https://www.rugbystore.co.uk/wso/images/library/45075905-detail-72dpi-rgb.jpg?view=976&amp;v=636461638200000000\n",
            "[%] File Downloaded !\n",
            "\n",
            "[%] Downloading Image #28 from https://www.rugbystore.co.uk/wso/images/library/48418401-side1-72dpi-rgb.jpg?view=976\n",
            "[%] File Downloaded !\n",
            "\n",
            "[%] Downloading Image #29 from https://www.ctsports.co.uk/media/catalog/product/e/n/england-rugby-ball-supporters_3.jpg\n",
            "[%] File Downloaded !\n",
            "\n",
            "[%] Downloading Image #30 from https://i.pinimg.com/originals/97/af/d2/97afd2912fcdbed61e7d2dde52a9a2bf.jpg\n",
            "[%] File Downloaded !\n",
            "\n",
            "\n",
            "\n",
            "[%] Done. Downloaded 30 images.\n",
            "===============================================\n",
            "\n",
            "Please show your support here\n",
            "https://www.buymeacoffee.com/gurugaurav\n",
            "\n",
            "===============================================\n",
            "\n"
          ],
          "name": "stdout"
        }
      ]
    },
    {
      "cell_type": "code",
      "metadata": {
        "colab": {
          "base_uri": "https://localhost:8080/"
        },
        "id": "vbE6spsJ5luc",
        "outputId": "c05451c4-5fcd-41d3-e183-e4dbd4a8fe9e"
      },
      "source": [
        "!pip install ipython-autotime\n",
        "%load_ext autotime\n"
      ],
      "execution_count": 3,
      "outputs": [
        {
          "output_type": "stream",
          "text": [
            "Collecting ipython-autotime\n",
            "  Downloading https://files.pythonhosted.org/packages/b4/c9/b413a24f759641bc27ef98c144b590023c8038dfb8a3f09e713e9dff12c1/ipython_autotime-0.3.1-py2.py3-none-any.whl\n",
            "Requirement already satisfied: ipython in /usr/local/lib/python3.7/dist-packages (from ipython-autotime) (5.5.0)\n",
            "Requirement already satisfied: pickleshare in /usr/local/lib/python3.7/dist-packages (from ipython->ipython-autotime) (0.7.5)\n",
            "Requirement already satisfied: setuptools>=18.5 in /usr/local/lib/python3.7/dist-packages (from ipython->ipython-autotime) (57.0.0)\n",
            "Requirement already satisfied: pygments in /usr/local/lib/python3.7/dist-packages (from ipython->ipython-autotime) (2.6.1)\n",
            "Requirement already satisfied: prompt-toolkit<2.0.0,>=1.0.4 in /usr/local/lib/python3.7/dist-packages (from ipython->ipython-autotime) (1.0.18)\n",
            "Requirement already satisfied: simplegeneric>0.8 in /usr/local/lib/python3.7/dist-packages (from ipython->ipython-autotime) (0.8.1)\n",
            "Requirement already satisfied: decorator in /usr/local/lib/python3.7/dist-packages (from ipython->ipython-autotime) (4.4.2)\n",
            "Requirement already satisfied: traitlets>=4.2 in /usr/local/lib/python3.7/dist-packages (from ipython->ipython-autotime) (5.0.5)\n",
            "Requirement already satisfied: pexpect; sys_platform != \"win32\" in /usr/local/lib/python3.7/dist-packages (from ipython->ipython-autotime) (4.8.0)\n",
            "Requirement already satisfied: six>=1.9.0 in /usr/local/lib/python3.7/dist-packages (from prompt-toolkit<2.0.0,>=1.0.4->ipython->ipython-autotime) (1.15.0)\n",
            "Requirement already satisfied: wcwidth in /usr/local/lib/python3.7/dist-packages (from prompt-toolkit<2.0.0,>=1.0.4->ipython->ipython-autotime) (0.2.5)\n",
            "Requirement already satisfied: ipython-genutils in /usr/local/lib/python3.7/dist-packages (from traitlets>=4.2->ipython->ipython-autotime) (0.2.0)\n",
            "Requirement already satisfied: ptyprocess>=0.5 in /usr/local/lib/python3.7/dist-packages (from pexpect; sys_platform != \"win32\"->ipython->ipython-autotime) (0.7.0)\n",
            "Installing collected packages: ipython-autotime\n",
            "Successfully installed ipython-autotime-0.3.1\n",
            "time: 205 µs (started: 2021-06-09 08:32:44 +00:00)\n"
          ],
          "name": "stdout"
        }
      ]
    },
    {
      "cell_type": "code",
      "metadata": {
        "colab": {
          "base_uri": "https://localhost:8080/"
        },
        "id": "lUxTvW9O51Xu",
        "outputId": "fa3052bd-9948-4525-c673-8a6c070ea539"
      },
      "source": [
        "import os\n",
        "import matplotlib.pyplot as plt \n",
        "import numpy as np\n",
        "from skimage.io import imread\n",
        "from skimage.transform import resize\n",
        "target =[]\n",
        "images =[]\n",
        "flat_data=[]\n",
        "DATADIR = '/content/images'\n",
        "CATEGORIES = ['ice cream', 'rugby ball','tennis ball ']\n",
        "for category in CATEGORIES:\n",
        "  class_num = CATEGORIES.index( category)\n",
        "  path = os.path.join (DATADIR, category)\n",
        "  for img in os.listdir(path):\n",
        "    img_array = imread ( os.path.join(path, img ))\n",
        "    img_resized= resize (img_array , (150,150,3))\n",
        "    flat_data.append(img_resized.flatten())\n",
        "    images.append(img_resized)\n",
        "    target.append(class_num)\n",
        "flat_data =np.array(flat_data)\n",
        "target = np.array(target)\n",
        "images= np.array(class_num)\n"
      ],
      "execution_count": 7,
      "outputs": [
        {
          "output_type": "stream",
          "text": [
            "time: 36.2 s (started: 2021-06-09 08:41:39 +00:00)\n"
          ],
          "name": "stdout"
        }
      ]
    },
    {
      "cell_type": "code",
      "metadata": {
        "colab": {
          "base_uri": "https://localhost:8080/"
        },
        "id": "YhC-YPb_8BTR",
        "outputId": "2b79f666-a5fc-4ec2-945e-35622faead51"
      },
      "source": [
        "from sklearn.model_selection import train_test_split\n",
        "x_train, x_test , y_train, y_test = train_test_split(flat_data, target , test_size =0.3 , random_state = 109)\n"
      ],
      "execution_count": 9,
      "outputs": [
        {
          "output_type": "stream",
          "text": [
            "time: 22.3 ms (started: 2021-06-09 08:45:13 +00:00)\n"
          ],
          "name": "stdout"
        }
      ]
    },
    {
      "cell_type": "code",
      "metadata": {
        "colab": {
          "base_uri": "https://localhost:8080/"
        },
        "id": "xZOCsR298oDI",
        "outputId": "6dd902b6-91cb-4b51-fe4f-c8ed00d466cb"
      },
      "source": [
        "from sklearn.model_selection import GridSearchCV\n",
        "from sklearn import svm\n",
        "param_grid = [ { 'C': [1,10,100,1000], 'kernel':['linear']},\n",
        "              {'C': [1,10,100,1000], 'gamma': [0.001, 0.0001], 'kernel':['rbf']},]\n",
        "svc = svm.SVC (probability = True ) \n",
        "clf = GridSearchCV(svc , param_grid)\n",
        "clf.fit (x_train, y_train)\n",
        "y_pred = clf.predict (x_test)             "
      ],
      "execution_count": 11,
      "outputs": [
        {
          "output_type": "stream",
          "text": [
            "time: 2min 7s (started: 2021-06-09 08:50:07 +00:00)\n"
          ],
          "name": "stdout"
        }
      ]
    },
    {
      "cell_type": "code",
      "metadata": {
        "colab": {
          "base_uri": "https://localhost:8080/"
        },
        "id": "ldEtj4_r-TeV",
        "outputId": "cb5417a0-6584-4535-d84e-ea2ff0ee4c89"
      },
      "source": [
        "import pickle \n",
        "pickle.dump (clf ,open ('img_model.p','wb'))\n",
        "\n",
        "\n"
      ],
      "execution_count": 13,
      "outputs": [
        {
          "output_type": "stream",
          "text": [
            "time: 58.6 ms (started: 2021-06-09 08:54:51 +00:00)\n"
          ],
          "name": "stdout"
        }
      ]
    },
    {
      "cell_type": "code",
      "metadata": {
        "colab": {
          "base_uri": "https://localhost:8080/"
        },
        "id": "u3RMr5EWBWWD",
        "outputId": "310203b8-e069-41f5-8937-4454af1479fe"
      },
      "source": [
        "from sklearn.metrics import accuracy_score, confusion_matrix\n",
        "accuracy_score(y_pred, y_test)\n",
        "confusion_matrix(y_pred, y_test)"
      ],
      "execution_count": 23,
      "outputs": [
        {
          "output_type": "execute_result",
          "data": {
            "text/plain": [
              "array([[7, 0, 2],\n",
              "       [0, 8, 1],\n",
              "       [1, 3, 5]])"
            ]
          },
          "metadata": {
            "tags": []
          },
          "execution_count": 23
        },
        {
          "output_type": "stream",
          "text": [
            "time: 8.42 ms (started: 2021-06-09 09:08:10 +00:00)\n"
          ],
          "name": "stdout"
        }
      ]
    },
    {
      "cell_type": "code",
      "metadata": {
        "colab": {
          "base_uri": "https://localhost:8080/",
          "height": 337
        },
        "id": "Re2hCMGR-tw6",
        "outputId": "0f9f6b2f-ee0f-42fa-838a-40944bb842ed"
      },
      "source": [
        "model = pickle.load(open('img_model.p','rb'))\n",
        "flat_data =[]\n",
        "url = input(\"Enter the image url\")\n",
        "img = imread(url)\n",
        "img_resized = resize ( img, (150 , 150, 3))\n",
        "flat_data.append(img_resized.flatten())\n",
        "flat_data = np.array(flat_data)\n",
        "print(img.shape)\n",
        "plt.imshow(img_resized)\n",
        "y_out = model.predict (flat_data)\n",
        "y_out = CATEGORIES[y_out[0]]\n",
        "print(f'PREDICTED OUTPUT: {y_out} ')"
      ],
      "execution_count": 20,
      "outputs": [
        {
          "output_type": "stream",
          "text": [
            "Enter the image url/content/sample_data/rugby ball1.jpg\n",
            "(394, 394, 3)\n",
            "PREDICTED OUTPUT: rugby ball \n"
          ],
          "name": "stdout"
        },
        {
          "output_type": "display_data",
          "data": {
            "image/png": "[encoded data removed]",
            "text/plain": [
              "<Figure size 432x288 with 1 Axes>"
            ]
          },
          "metadata": {
            "tags": [],
            "needs_background": "light"
          }
        },
        {
          "output_type": "stream",
          "text": [
            "time: 12.5 s (started: 2021-06-09 09:05:29 +00:00)\n"
          ],
          "name": "stdout"
        }
      ]
    },
    {
      "cell_type": "code",
      "metadata": {
        "id": "yGsYL2GT_pn3"
      },
      "source": [
        ""
      ],
      "execution_count": null,
      "outputs": []
    }
  ]
}